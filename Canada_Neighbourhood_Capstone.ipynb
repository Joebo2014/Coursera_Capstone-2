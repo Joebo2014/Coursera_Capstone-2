{
 "cells": [
  {
   "cell_type": "markdown",
   "metadata": {},
   "source": [
    "Notebook to Extract Cananda Neighbourhood Data from Wikipedia"
   ]
  },
  {
   "cell_type": "code",
   "execution_count": 20,
   "metadata": {},
   "outputs": [],
   "source": [
    "#Let us import required libraries\n",
    "from pandas.io.html import read_html"
   ]
  },
  {
   "cell_type": "code",
   "execution_count": 21,
   "metadata": {},
   "outputs": [
    {
     "name": "stdout",
     "output_type": "stream",
     "text": [
      "Extracted 1 wikitables\n"
     ]
    }
   ],
   "source": [
    "#Let us read the Wikipedia Page\n",
    "page = \"https://en.wikipedia.org/wiki/List_of_postal_codes_of_Canada:_M\"\n",
    "wikitables = read_html(page, attrs={\"class\":\"wikitable\"})\n",
    "#Let us see number of tables we have generated. We need to ensure that we use correct one\n",
    "print (\"Extracted {num} wikitables\".format(num=len(wikitables)))"
   ]
  },
  {
   "cell_type": "markdown",
   "metadata": {},
   "source": [
    "Good that we have only one wikitable. Let us see if this is the one we are looking for"
   ]
  },
  {
   "cell_type": "code",
   "execution_count": 22,
   "metadata": {},
   "outputs": [
    {
     "name": "stdout",
     "output_type": "stream",
     "text": [
      "          0             1                 2\n",
      "0  Postcode       Borough     Neighbourhood\n",
      "1       M1A  Not assigned      Not assigned\n",
      "2       M2A  Not assigned      Not assigned\n",
      "3       M3A    North York         Parkwoods\n",
      "4       M4A    North York  Victoria Village\n"
     ]
    }
   ],
   "source": [
    "#Print the retrieved wikitable\n",
    "print (wikitables[0].head())"
   ]
  },
  {
   "cell_type": "markdown",
   "metadata": {},
   "source": [
    "Yes, this looks to be the one we are interested in. Let us proceed."
   ]
  },
  {
   "cell_type": "code",
   "execution_count": 23,
   "metadata": {},
   "outputs": [
    {
     "name": "stdout",
     "output_type": "stream",
     "text": [
      "0 Postcode           Borough     Neighbourhood\n",
      "1      M1A      Not assigned      Not assigned\n",
      "2      M2A      Not assigned      Not assigned\n",
      "3      M3A        North York         Parkwoods\n",
      "4      M4A        North York  Victoria Village\n",
      "5      M5A  Downtown Toronto      Harbourfront\n"
     ]
    }
   ],
   "source": [
    "#For the sake of simplicity let us rename the table\n",
    "canada_neighbourhood_details_df = wikitables[0]\n",
    "#We need to change column headers to \"Postcode\",\"Borough\" and \"Neighbourhood\"\n",
    "canada_neighbourhood_details_df.columns = canada_neighbourhood_details_df.iloc[0]\n",
    "#Let us drop the row which we have used as column header and also reindex the table\n",
    "canada_neighbourhood_details_df = canada_neighbourhood_details_df.reindex(canada_neighbourhood_details_df.index.drop(0))\n",
    "print (canada_neighbourhood_details_df.head())"
   ]
  },
  {
   "cell_type": "markdown",
   "metadata": {},
   "source": [
    "The Table has been Extracted Successfully. Let us now perform required cleanup"
   ]
  },
  {
   "cell_type": "code",
   "execution_count": 24,
   "metadata": {},
   "outputs": [
    {
     "name": "stdout",
     "output_type": "stream",
     "text": [
      "0 Postcode           Borough     Neighbourhood\n",
      "0      M3A        North York         Parkwoods\n",
      "1      M4A        North York  Victoria Village\n",
      "2      M5A  Downtown Toronto      Harbourfront\n",
      "3      M5A  Downtown Toronto       Regent Park\n",
      "4      M6A        North York  Lawrence Heights\n"
     ]
    }
   ],
   "source": [
    "#Let us create new dataframe by removing all \"Not assigned\" values in \"Borough\"\n",
    "mod_can_nei_det_df = canada_neighbourhood_details_df[canada_neighbourhood_details_df.Borough != \"Not assigned\"]\n",
    "mod_can_nei_det_df = mod_can_nei_det_df.reset_index(drop=True)\n",
    "print (mod_can_nei_det_df.head())"
   ]
  },
  {
   "cell_type": "markdown",
   "metadata": {},
   "source": [
    "Now that we have reset the index and removed the \"Not assigned\" values in Borough column. Let us see if we have any \"Not assigned\" values in \"Neighbourhood\"."
   ]
  },
  {
   "cell_type": "code",
   "execution_count": 25,
   "metadata": {},
   "outputs": [
    {
     "name": "stdout",
     "output_type": "stream",
     "text": [
      "0 Postcode       Borough Neighbourhood\n",
      "6      M7A  Queen's Park  Not assigned\n"
     ]
    }
   ],
   "source": [
    "print (mod_can_nei_det_df[mod_can_nei_det_df.Neighbourhood == \"Not assigned\"].head(10))"
   ]
  },
  {
   "cell_type": "markdown",
   "metadata": {},
   "source": [
    "Luckily, there is only one such value. We can directly modify this value. Otherwise we would have to write a loop to change all the values. We need to set the \"Neighbourhood\" value equal to \"Borough\" value in this case."
   ]
  },
  {
   "cell_type": "code",
   "execution_count": 26,
   "metadata": {},
   "outputs": [
    {
     "name": "stdout",
     "output_type": "stream",
     "text": [
      "Value Post assignment is = \n",
      "0 Neighbourhood\n",
      "6  Queen's Park\n",
      "++++++++++++++++++++++++++++++++++++++++++++++++++++++++++++++++++++++++\n",
      "Empty DataFrame\n",
      "Columns: [Postcode, Borough, Neighbourhood]\n",
      "Index: []\n",
      "++++++++++++++++++++++++++++++++++++++++++++++++++++++++++++++++++++++++\n",
      "Shape of the table after above modifications is (212, 3)\n"
     ]
    }
   ],
   "source": [
    "#Modification of Neighbourhood value\n",
    "mod_can_nei_det_df.iloc[[6], [2]] = mod_can_nei_det_df.iloc[[6], [1]].values\n",
    "#Let us see if the above step has worked\n",
    "print (\"Value Post assignment is = \\n{}\".format(mod_can_nei_det_df.iloc[[6], [2]]))\n",
    "print (\"++++++++++++++++++++++++++++++++++++++++++++++++++++++++++++++++++++++++\")\n",
    "print (mod_can_nei_det_df[mod_can_nei_det_df.Neighbourhood == \"Not assigned\"].head(10))\n",
    "print (\"++++++++++++++++++++++++++++++++++++++++++++++++++++++++++++++++++++++++\")\n",
    "print (\"Shape of the table after above modifications is {}\".format(mod_can_nei_det_df.shape))"
   ]
  },
  {
   "cell_type": "markdown",
   "metadata": {},
   "source": [
    "Good Enough. Now the last bit. We need to consolidate all the Neighbourhood's having same Postcode. We can use groupby function for the same."
   ]
  },
  {
   "cell_type": "code",
   "execution_count": 27,
   "metadata": {},
   "outputs": [],
   "source": [
    "mod_can_nei_det_df = mod_can_nei_det_df.groupby(['Postcode','Borough'],as_index=False).agg(','.join)"
   ]
  },
  {
   "cell_type": "code",
   "execution_count": 28,
   "metadata": {},
   "outputs": [
    {
     "name": "stdout",
     "output_type": "stream",
     "text": [
      "0 Postcode      Borough                         Neighbourhood\n",
      "0      M1B  Scarborough                         Rouge,Malvern\n",
      "1      M1C  Scarborough  Highland Creek,Rouge Hill,Port Union\n",
      "2      M1E  Scarborough       Guildwood,Morningside,West Hill\n",
      "3      M1G  Scarborough                                Woburn\n",
      "4      M1H  Scarborough                             Cedarbrae\n"
     ]
    }
   ],
   "source": [
    "#Let us see if we have our required form\n",
    "print (mod_can_nei_det_df.head())"
   ]
  },
  {
   "cell_type": "markdown",
   "metadata": {},
   "source": [
    "Neat! Let us check the shape of the table now."
   ]
  },
  {
   "cell_type": "code",
   "execution_count": 29,
   "metadata": {},
   "outputs": [
    {
     "name": "stdout",
     "output_type": "stream",
     "text": [
      "Shape of table after grouping Neighbourhood values is (103, 3)\n"
     ]
    }
   ],
   "source": [
    "#Print the shape of the table\n",
    "print (\"Shape of table after grouping Neighbourhood values is {}\".format(mod_can_nei_det_df.shape))"
   ]
  }
 ],
 "metadata": {
  "kernelspec": {
   "display_name": "Python 3",
   "language": "python",
   "name": "python3"
  },
  "language_info": {
   "codemirror_mode": {
    "name": "ipython",
    "version": 3
   },
   "file_extension": ".py",
   "mimetype": "text/x-python",
   "name": "python",
   "nbconvert_exporter": "python",
   "pygments_lexer": "ipython3",
   "version": "3.7.1"
  }
 },
 "nbformat": 4,
 "nbformat_minor": 2
}
