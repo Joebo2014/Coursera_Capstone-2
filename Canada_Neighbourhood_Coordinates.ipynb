{
 "cells": [
  {
   "cell_type": "markdown",
   "metadata": {},
   "source": [
    "This notebook will be used to perform second assignment in Week 3 Capstone Project\n",
    "Let us import required libraries and csv files."
   ]
  },
  {
   "cell_type": "code",
   "execution_count": 76,
   "metadata": {},
   "outputs": [
    {
     "name": "stdout",
     "output_type": "stream",
     "text": [
      "  Postal Code   Latitude  Longitude\n",
      "0         M1B  43.806686 -79.194353\n",
      "1         M1C  43.784535 -79.160497\n",
      "2         M1E  43.763573 -79.188711\n",
      "3         M1G  43.770992 -79.216917\n",
      "4         M1H  43.773136 -79.239476\n"
     ]
    }
   ],
   "source": [
    "import pandas as pd\n",
    "lat_long_df = pd.read_csv(\"Geospatial_Coordinates.csv\")\n",
    "print (lat_long_df.head())"
   ]
  },
  {
   "cell_type": "markdown",
   "metadata": {},
   "source": [
    "Data looks fine. Now let us retrieve the dataframe which was created in part 1 of the assignment. The dataframe was saved to the CSV file \"Canada_Neighbourhood.csv\""
   ]
  },
  {
   "cell_type": "code",
   "execution_count": 77,
   "metadata": {},
   "outputs": [],
   "source": [
    "canada_neighbourhood_df = pd.read_csv(\"Canada_Neighbourhood.csv\")"
   ]
  },
  {
   "cell_type": "code",
   "execution_count": 78,
   "metadata": {},
   "outputs": [
    {
     "name": "stdout",
     "output_type": "stream",
     "text": [
      "   Unnamed: 0 Postcode      Borough                         Neighbourhood\n",
      "0           0      M1B  Scarborough                         Rouge,Malvern\n",
      "1           1      M1C  Scarborough  Highland Creek,Rouge Hill,Port Union\n",
      "2           2      M1E  Scarborough       Guildwood,Morningside,West Hill\n",
      "3           3      M1G  Scarborough                                Woburn\n",
      "4           4      M1H  Scarborough                             Cedarbrae\n"
     ]
    }
   ],
   "source": [
    "print (canada_neighbourhood_df.head())"
   ]
  },
  {
   "cell_type": "markdown",
   "metadata": {},
   "source": [
    "Guess there was some issue when file was saved. Not a problem, let us remove the unwanted column."
   ]
  },
  {
   "cell_type": "code",
   "execution_count": 79,
   "metadata": {},
   "outputs": [
    {
     "name": "stdout",
     "output_type": "stream",
     "text": [
      "  Postcode      Borough                         Neighbourhood\n",
      "0      M1B  Scarborough                         Rouge,Malvern\n",
      "1      M1C  Scarborough  Highland Creek,Rouge Hill,Port Union\n",
      "2      M1E  Scarborough       Guildwood,Morningside,West Hill\n",
      "3      M1G  Scarborough                                Woburn\n",
      "4      M1H  Scarborough                             Cedarbrae\n"
     ]
    }
   ],
   "source": [
    "canada_neighbourhood_df = canada_neighbourhood_df.drop(columns=['Unnamed: 0'])\n",
    "print (canada_neighbourhood_df.head())"
   ]
  },
  {
   "cell_type": "markdown",
   "metadata": {},
   "source": [
    "Good Enough! Just to be sure, let us compare shape of both the dataframes."
   ]
  },
  {
   "cell_type": "code",
   "execution_count": 80,
   "metadata": {},
   "outputs": [
    {
     "name": "stdout",
     "output_type": "stream",
     "text": [
      "Shape of canada_neighbourhood_df is (103, 3)\n",
      "Shape of lat_long_df is (103, 3)\n"
     ]
    }
   ],
   "source": [
    "print (\"Shape of canada_neighbourhood_df is {}\".format(canada_neighbourhood_df.shape))\n",
    "print (\"Shape of lat_long_df is {}\".format(lat_long_df.shape))"
   ]
  },
  {
   "cell_type": "markdown",
   "metadata": {},
   "source": [
    "Great! Shape of both the dataframes match.\n",
    "Now we need to join both the dataframes to get the required dataframe shape. Let us do that."
   ]
  },
  {
   "cell_type": "code",
   "execution_count": 81,
   "metadata": {},
   "outputs": [],
   "source": [
    "#We need to join these two dataframes but we need to rename \"Postal Code\" in lat_long_df before that\n",
    "lat_long_df = lat_long_df.rename({'Postal Code':'Postcode'},axis='columns')"
   ]
  },
  {
   "cell_type": "code",
   "execution_count": 82,
   "metadata": {},
   "outputs": [
    {
     "name": "stdout",
     "output_type": "stream",
     "text": [
      "  PostalCode      Borough                         Neighbourhood   Latitude  \\\n",
      "0        M1B  Scarborough                         Rouge,Malvern  43.806686   \n",
      "1        M1C  Scarborough  Highland Creek,Rouge Hill,Port Union  43.784535   \n",
      "2        M1E  Scarborough       Guildwood,Morningside,West Hill  43.763573   \n",
      "3        M1G  Scarborough                                Woburn  43.770992   \n",
      "4        M1H  Scarborough                             Cedarbrae  43.773136   \n",
      "\n",
      "   Longitude  \n",
      "0 -79.194353  \n",
      "1 -79.160497  \n",
      "2 -79.188711  \n",
      "3 -79.216917  \n",
      "4 -79.239476  \n"
     ]
    }
   ],
   "source": [
    "#Merge the two dataframes on column \"Postcode\"\n",
    "combined_canada_lat_df = pd.merge(canada_neighbourhood_df, lat_long_df, on='Postcode', how='outer')\n",
    "#Let me rename column name of combined dataframe from \"Postcode\" to \"PostalCode\" to match with required dataframe\n",
    "combined_canada_lat_df = combined_canada_lat_df.rename({'Postcode':'PostalCode'},axis='columns')\n",
    "print (combined_canada_lat_df.head())"
   ]
  },
  {
   "cell_type": "markdown",
   "metadata": {},
   "source": [
    "Looks good! To be on safe side, we must check the shape of the new dataframe."
   ]
  },
  {
   "cell_type": "code",
   "execution_count": 83,
   "metadata": {},
   "outputs": [
    {
     "name": "stdout",
     "output_type": "stream",
     "text": [
      "Shape of the new dataframe is (103, 5)\n"
     ]
    }
   ],
   "source": [
    "print (\"Shape of the new dataframe is {}\".format(combined_canada_lat_df.shape))"
   ]
  },
  {
   "cell_type": "markdown",
   "metadata": {},
   "source": [
    "Nice, we had match for all the columns. Good to go!"
   ]
  }
 ],
 "metadata": {
  "kernelspec": {
   "display_name": "Python 3",
   "language": "python",
   "name": "python3"
  },
  "language_info": {
   "codemirror_mode": {
    "name": "ipython",
    "version": 3
   },
   "file_extension": ".py",
   "mimetype": "text/x-python",
   "name": "python",
   "nbconvert_exporter": "python",
   "pygments_lexer": "ipython3",
   "version": "3.7.1"
  }
 },
 "nbformat": 4,
 "nbformat_minor": 2
}
